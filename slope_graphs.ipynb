{
 "cells": [
  {
   "cell_type": "code",
   "execution_count": null,
   "metadata": {},
   "outputs": [],
   "source": [
    "# Slopegraphs in matplotlib\n",
    "# Trey Causey (@treycausey)\n",
    "# Problems arise when equal values occur\n",
    "# within the same time unit\n",
    "\n",
    "import matplotlib.pyplot as plt\n",
    "import numpy as np\n",
    "import pandas as pd"
   ]
  },
  {
   "cell_type": "code",
   "execution_count": null,
   "metadata": {},
   "outputs": [],
   "source": [
    "units = ['A', 'B', 'C', 'D']\n",
    "times = ['time1', 'time2', 'time3']\n",
    "df = pd.DataFrame(index=units, columns=times)"
   ]
  },
  {
   "cell_type": "code",
   "execution_count": null,
   "metadata": {},
   "outputs": [],
   "source": [
    "df.time1 = [4, 5, 6, 7]\n",
    "df.time2 = [5, 4, 7, 6]\n",
    "df.time3 = [5, 4, 6, 7]"
   ]
  },
  {
   "cell_type": "code",
   "execution_count": 1,
   "metadata": {},
   "outputs": [
    {
     "data": {
      "image/png": "[encoded data removed]",
      "text/plain": [
       "<Figure size 432x288 with 1 Axes>"
      ]
     },
     "metadata": {
      "needs_background": "light"
     },
     "output_type": "display_data"
    }
   ],
   "source": [
    "ymin = min(df.min())\n",
    "ymax = max(df.max())\n",
    "\n",
    "num_times = df.shape[1]\n",
    "num_units = df.shape[0]\n",
    "\n",
    "plt.xlim(0, num_units)\n",
    "plt.ylim(ymin - 1, ymax + 1)\n",
    "plt.axis('off')\n",
    "\n",
    "for time in range(num_times):\n",
    "    for unit in range(num_units):\n",
    "        plt.text(time + 1, \n",
    "                df.values[unit][time] - .05,\n",
    "                '{} : {}'.format(df.index[unit], df.values[unit][time]),\n",
    "                horizontalalignment='center',\n",
    "                verticalalignment='baseline')\n",
    "\n",
    "num_lines = range(1, num_times)\n",
    "\n",
    "for l in num_lines:\n",
    "    for row in df.values:\n",
    "        plt.plot([l + .25, l + .75], [row[l - 1], row[l]])\n",
    "\n",
    "plt.show()"
   ]
  },
  {
   "cell_type": "code",
   "execution_count": null,
   "metadata": {},
   "outputs": [],
   "source": []
  }
 ],
 "metadata": {
  "kernelspec": {
   "display_name": "Python 3",
   "language": "python",
   "name": "python3"
  },
  "language_info": {
   "codemirror_mode": {
    "name": "ipython",
    "version": 3
   },
   "file_extension": ".py",
   "mimetype": "text/x-python",
   "name": "python",
   "nbconvert_exporter": "python",
   "pygments_lexer": "ipython3",
   "version": "3.7.9"
  }
 },
 "nbformat": 4,
 "nbformat_minor": 4
}
