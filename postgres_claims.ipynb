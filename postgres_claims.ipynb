{
 "cells": [
  {
   "cell_type": "code",
   "execution_count": 1,
   "metadata": {},
   "outputs": [],
   "source": [
    "import pandas as pd\n",
    "import pyodbc as p"
   ]
  },
  {
   "cell_type": "code",
   "execution_count": 2,
   "metadata": {},
   "outputs": [],
   "source": [
    "def limit10_fn(conn,db_name, table_name):\n",
    "    query=\"\"\"select * from {db_name}.{table_name} limit 10\"\"\".format(db_name=db_name,table_name=table_name)\n",
    "    return pd.read_sql(query,conn)"
   ]
  },
  {
   "cell_type": "markdown",
   "metadata": {},
   "source": [
    "This is the raw data script:"
   ]
  },
  {
   "cell_type": "code",
   "execution_count": 3,
   "metadata": {},
   "outputs": [],
   "source": [
    "sql_query=\"\"\"SELECT c.scheme_fk,scheme_name, ms_fk, c.dep_fk as dependent_no,upper(dep_type) as dep_type,gender,first_name,surname,birth_date, claim_fk, claim_date, pr_fk as practice_no,pr_descr as doctor_name, pr_type,pr_type_descr, pr_group_descr, tariff_fk, claim_type, c.claim_code,description as claim_code_description ,icd10_fk,icd10_descr, three_letter_level as icd10_group_description, auth_fk, units, pmb, (Case WHEN c.claim_code = 'K' THEN 'Y' WHEN c.claim_code IN ('C','P') AND c.claim_code = '80' THEN 'Y' WHEN pr_type = '62' AND c.claim_code = '31' THEN 'Y' WHEN pr_type IN ('87','88','90') THEN 'Y' ELSE 'N' END) as In_Hospital_Indicator,\n",
    "\n",
    "claimed_amount, benefit_amount,\n",
    "\n",
    "(case when (claimed_amount > 0 AND benefit_amount = 0) and paid_date is not null then 'Rejected' else case when ((claimed_amount > 0 AND benefit_amount > 0)) and paid_date is not null then 'Paid' else case when claimed_amount> 0 and benefit_amount > 0 and paid_date is null and assess_date is not null then 'Pending' else 'Unpaid' end end end ) as \"ClaimsStatus\",rcvd_date, assess_date, paid_date,tariff_amount, discount,owes, override, gen_no, suspend_until, suspended, assessed_datetime FROM mipbi_dbo.tf_claim_head_curr c left join mipst_dbo.tsd_ccdesc cc on c.claim_code=cc.claim_code and scheme_fk=scheme_code::int left join mipst_dbo.tsd_icd10 on icd10_fk=icd10_pk left join mipst_dbo.tsd_practice on pr_fk=pr_pk left join mipst_dbo.tsd_provider on pr_type_pk=pr_type left join mipbi_dbo.td_beneficiary b on ms_pk=ms_fk and b.scheme_fk=c.scheme_fk and b.dep_fk=c.dep_fk where claim_date>=20200101;\"\"\""
   ]
  },
  {
   "cell_type": "markdown",
   "metadata": {},
   "source": [
    "Here we connect to the __kx_bi__ postgres database and execute the above query to generate the EAP raw data set:"
   ]
  },
  {
   "cell_type": "code",
   "execution_count": 4,
   "metadata": {},
   "outputs": [],
   "source": [
    "conn_str = (\n",
    "    \"DRIVER={PostgreSQL ODBC Driver(UNICODE)};\"\n",
    "    \"DATABASE=kx_bi;\"\n",
    "    \"UID=postgres;\"\n",
    "    \"PWD=postgres;\"\n",
    "    \"SERVER=172.31.244.44;\"\n",
    "    \"PORT=5432;\"\n",
    "    )\n",
    "\n",
    "conn = p.connect(conn_str)\n",
    "# cursor = conn.cursor()"
   ]
  },
  {
   "cell_type": "code",
   "execution_count": null,
   "metadata": {},
   "outputs": [],
   "source": [
    "eapraw_df = pd.read_sql(sql_query,conn)"
   ]
  },
  {
   "cell_type": "code",
   "execution_count": null,
   "metadata": {},
   "outputs": [],
   "source": [
    "eapraw_df"
   ]
  },
  {
   "cell_type": "code",
   "execution_count": 8,
   "metadata": {},
   "outputs": [],
   "source": [
    "sql_query=\"\"\"\n",
    "SELECT  \n",
    "case when \"mem-num\" is null then 'N' else 'Y' end as \"Registered Chronic\",\n",
    "c.scheme_fk,\n",
    "scheme_name, \n",
    "ms_fk,\n",
    " c.dep_fk as dependent_no,\n",
    "upper(dep_type) as dep_type,\n",
    "gender,\n",
    "b.first_name,\n",
    "b.surname,\n",
    "birth_date,\n",
    " claim_fk,\n",
    " claim_date,\n",
    " pr_fk as practice_no,\n",
    "pr_descr as doctor_name,\n",
    " pr_type,\n",
    "pr_type_descr, \n",
    "pr_group_descr,\n",
    " tariff_fk, \n",
    "claim_type, \n",
    "c.claim_code,\n",
    "description as claim_code_description,\n",
    "icd10_fk,\n",
    "icd10_descr,\n",
    " three_letter_level as icd10_group_description,\n",
    " auth_fk, \n",
    "units, \n",
    "pmb, \n",
    "(Case WHEN c.claim_type = 'K' THEN 'Y' \n",
    "\t\tWHEN c.claim_type IN ('C','P') AND c.claim_code = '80' THEN 'Y' \n",
    "\t\tWHEN pr_type = '62' AND c.claim_code = '31' THEN 'Y'\n",
    "\t\tWHEN pr_type IN ('87','88','90') THEN 'Y'\n",
    "\t\tELSE 'N' \n",
    "\tEND) as In_Hospital_Indicator,\n",
    "\n",
    "claimed_amount, \n",
    "benefit_amount,\n",
    "(case when (claimed_amount > 0 AND benefit_amount = 0) and paid_date is not null then 'Rejected' else\n",
    "case when ((claimed_amount > 0 AND benefit_amount > 0)) and paid_date is not null then 'Paid' else\n",
    "case when claimed_amount> 0 and benefit_amount > 0  and paid_date is null and assess_date is not null then 'Pending' else 'Unpaid' end end end ) as \"ClaimsStatus\",\n",
    "rcvd_date,\n",
    "assess_date, \n",
    "paid_date,\n",
    "tariff_amount,\n",
    " discount,\n",
    "owes, \n",
    "override,\n",
    " gen_no,\n",
    " suspend_until,\n",
    " suspended,\n",
    " assessed_datetime,\n",
    "b.comp_fk,\n",
    "b.comp_name ,\n",
    "coalesce(g.comp_name,'none') as group_name,\n",
    "broker_fk,\n",
    "broker_descr\n",
    "\n",
    "\tFROM mipbi_dbo.tf_claim_head_curr c\n",
    "\tleft join mipst_dbo.tsd_ccdesc cc on c.claim_code=cc.claim_code and scheme_fk=scheme_code::int\n",
    "\tleft join mipst_dbo.tsd_icd10 on icd10_fk=icd10_pk \n",
    "\tleft join mipst_dbo.tsd_practice on pr_fk=pr_pk\n",
    "\tleft join mipst_dbo.tsd_provider on pr_type_pk=pr_type\n",
    "\tinner join mipbi_dbo.td_beneficiary b on ms_pk=ms_fk and b.scheme_fk=c.scheme_fk and b.dep_fk=c.dep_fk\n",
    "                 left join mipst_dbo.tsd_ben_memcom g  on  (case when b.group_code='0' then b.comp_fk else b.group_code end)=g.comp_fk\n",
    "                 left join mipst_dbo.tsd_broker on broker_pk=broker_fk\n",
    "                 left join (select distinct\n",
    "\"mem-num\",\n",
    "dependant\n",
    "from\n",
    "mipst_dbo.tsd_depcond A\n",
    "inner JOIN\n",
    "mipst_dbo.tsd_condition_3 B on (A.\"cond-code\" = B.cond_fk)\n",
    "where\n",
    "cdl_fk is not null\n",
    "and \"reference-auth-num\" <> ''\n",
    "and cdl_fk <> '' AND cond_descr <> ''\n",
    "group by\n",
    "\"mem-num\",\n",
    "dependant) a on \"mem-num\"=ms_fk and\n",
    "dependant=c.dep_fk\n",
    "\twhere claim_date>=20190101 \n",
    "\"\"\""
   ]
  },
  {
   "cell_type": "code",
   "execution_count": 5,
   "metadata": {},
   "outputs": [],
   "source": [
    "eapraw_df = pd.read_sql(sql_query,conn)"
   ]
  },
  {
   "cell_type": "code",
   "execution_count": 6,
   "metadata": {},
   "outputs": [],
   "source": [
    "path=\"\"\"C:\\\\Users\\\\christo.strydom\\\\github_repos\\\\graphing\\\\data\\\\\"\"\""
   ]
  },
  {
   "cell_type": "code",
   "execution_count": 7,
   "metadata": {},
   "outputs": [],
   "source": [
    "eapraw_df.to_csv(path_or_buf=path+\"eapraw_df.csv\",index=False)"
   ]
  },
  {
   "cell_type": "code",
   "execution_count": 9,
   "metadata": {},
   "outputs": [],
   "source": [
    "claims_df = pd.read_sql(sql_query,conn)"
   ]
  },
  {
   "cell_type": "code",
   "execution_count": 10,
   "metadata": {},
   "outputs": [],
   "source": [
    "claims_df.to_csv(path_or_buf=path+\"claims_df.csv\",index=False)"
   ]
  },
  {
   "cell_type": "code",
   "execution_count": null,
   "metadata": {},
   "outputs": [],
   "source": []
  }
 ],
 "metadata": {
  "kernelspec": {
   "display_name": "Python 3",
   "language": "python",
   "name": "python3"
  },
  "language_info": {
   "codemirror_mode": {
    "name": "ipython",
    "version": 3
   },
   "file_extension": ".py",
   "mimetype": "text/x-python",
   "name": "python",
   "nbconvert_exporter": "python",
   "pygments_lexer": "ipython3",
   "version": "3.7.9"
  }
 },
 "nbformat": 4,
 "nbformat_minor": 4
}
